{
 "cells": [
  {
   "cell_type": "markdown",
   "metadata": {},
   "source": [
    "# 3D fuel mapping for forest fire risk assessment"
   ]
  },
  {
   "cell_type": "markdown",
   "metadata": {},
   "source": [
    "### Purpose"
   ]
  },
  {
   "cell_type": "markdown",
   "metadata": {},
   "source": [
    "The objetive of this tutorial is to explain the Experiment 2 of the GeoSpatial use case in the H2020 CloudButton project. The main goal of the project is to create a Serverless Data Analytics Platform that aims to “democratize big data” by overly simplifying the overall life cycle and programming model thanks to serverless technologies. The idea is to tap into stateless functions to enable radically-simpler, more user-friendly data processing systems. The CloudButton platform will seamlessly integrate a Serverless Compute Engine, a Mutable Shared Data Middleware, and new Serverless Cloud Programming Abstractions on top.\n",
    "\n",
    "The seconed experiment is based in a high-resolution forest fuel mapping. We will generate a fuel map of the Valencian Community in Spain, which include protected areas, using remote sensing fusion techniques and following an object-based classification model. Segmentation and supervised classification of Sentinel-2 images and 3D LiDAR-derived metrics of shrub\n",
    "and tree canopy structure of two dates (reference years) will be used as input data in spatial\n",
    "fire risk modelling, that also benefits of high resolution elevation models and other topographic input variables. The expected result is a high-resolution forest fire risk map that is useful for decision-making in forest planning and management (a ten-fold increase in map accuracy and better land-cover discrimination). Also, we will make a performance\n",
    "comparison assessment of results obtained through CloudButton toolkit and conventional software and computer facilities"
   ]
  },
  {
   "cell_type": "markdown",
   "metadata": {},
   "source": [
    "### 1. Setup\n"
   ]
  },
  {
   "cell_type": "markdown",
   "metadata": {},
   "source": [
    "#### 1.1. Set up docker"
   ]
  },
  {
   "cell_type": "markdown",
   "metadata": {},
   "source": [
    "To work with all the libraries in a **jupyter notebook** we will run a **docker** built for the experiment. It is necesarry to download <a href=\"https://www.docker.com/products/docker-desktop\">docker desktop</a>, once it is done, we download and run the image of the docker that its gonna be used.\n",
    "\n",
    "> docker pull mavsonnen/jupy-notebook:geosv2<br>\n",
    "> docker run mavsonnen/jupy-notebook:geosv2\n",
    "\n",
    "A **local directory** can be connected to a docker container creating a volume using <i>-v option</i>, change <i>local_path</i>:\n",
    "\n",
    "> docker run -p 8888:8888 -v E:/cloudbutton:/home/jovyan/work mavsonnen/jupy-notebook:geosv2\n",
    "\n",
    "\n"
   ]
  },
  {
   "cell_type": "markdown",
   "metadata": {},
   "source": [
    "#### 1.2. Importing libraries"
   ]
  },
  {
   "cell_type": "markdown",
   "metadata": {},
   "source": [
    "The following libraries are necessary:"
   ]
  },
  {
   "cell_type": "code",
   "execution_count": 58,
   "metadata": {},
   "outputs": [
    {
     "name": "stdout",
     "output_type": "stream",
     "text": [
      "Libraries imported succesfully\n"
     ]
    }
   ],
   "source": [
    "from sklearn.naive_bayes import GaussianNB\n",
    "from sklearn import model_selection\n",
    "from sklearn.linear_model import LogisticRegression\n",
    "from sklearn.preprocessing import scale,StandardScaler\n",
    "from sklearn.metrics import silhouette_score\n",
    "from sklearn.cluster import KMeans \n",
    "from shapely.geometry import mapping\n",
    "from IPython.display import Image\n",
    "from IPython.core.display import HTML \n",
    "from shapely.geometry import mapping\n",
    "import rasterio as rio\n",
    "from sklearn.pipeline import Pipeline\n",
    "from rasterio.mask import mask\n",
    "from rasterio.plot import show\n",
    "from rasterio.merge import merge\n",
    "from rasterio.plot import show\n",
    "from rasterio.plot import show_hist\n",
    "from rasterio.windows import Window\n",
    "from rasterio.plot import reshape_as_raster\n",
    "from rasterio.plot import reshape_as_image\n",
    "import matplotlib.pyplot as plt\n",
    "import geopandas as gpd\n",
    "import pandas as pd\n",
    "import numpy as np\n",
    "import lithops\n",
    "import shapely\n",
    "import shutil\n",
    "import pickle\n",
    "import joblib\n",
    "import gdal\n",
    "import earthpy as ep\n",
    "import earthpy.spatial as es\n",
    "import time\n",
    "import glob\n",
    "import ogr\n",
    "import os\n",
    "import io\n",
    "import pdal\n",
    "#import rioxarray as rxr\n",
    "import xarray as xr\n",
    "import json\n",
    "from matplotlib.colors import ListedColormap, BoundaryNorm\n",
    "import warnings\n",
    "warnings.filterwarnings(\"ignore\")\n",
    "\n",
    "print(\"Libraries imported succesfully\")"
   ]
  },
  {
   "cell_type": "markdown",
   "metadata": {},
   "source": [
    "#### 1.3. Configuration lithops"
   ]
  },
  {
   "cell_type": "markdown",
   "metadata": {},
   "source": [
    "We have reached the serverless implementation thanks to the framework **lithops**.\n",
    "All files that are going to run it will be on local."
   ]
  },
  {
   "cell_type": "markdown",
   "metadata": {},
   "source": [
    "![Image of Yaktocat](https://github.com/lithops-cloud/lithops/blob/master/docs/images/lithops_flat_cloud_1.png?raw=true)"
   ]
  },
  {
   "cell_type": "markdown",
   "metadata": {},
   "source": [
    "Working with lithops require a configuration file like the one express below. More info can be found in the official **<a href=\"https://github.com/lithops-cloud/lithops\">github</a> of Lithops**. "
   ]
  },
  {
   "cell_type": "markdown",
   "metadata": {},
   "source": [
    " <i>\n",
    "    config = { 'lithops' : {'storage_bucket' : 'BUCKET_NAME'},\n",
    "    \n",
    "           'ibm_cf':  {'endpoint': 'ENDPOINT',\n",
    "                      'namespace': 'NAMESPACE',\n",
    "                      'api_key': 'API_KEY'},\n",
    "    \n",
    "           'ibm_cos': {'region': 'REGION',\n",
    "                      'api_key': 'API_KEY'}}"
   ]
  },
  {
   "cell_type": "markdown",
   "metadata": {},
   "source": [
    "The **config** file with all the parameters is uploaded below"
   ]
  },
  {
   "cell_type": "code",
   "execution_count": 59,
   "metadata": {},
   "outputs": [],
   "source": [
    "config_path = open(\"config.txt\")\n",
    "config_read = config_path.read()\n",
    "config = json.loads(config_read)"
   ]
  },
  {
   "cell_type": "markdown",
   "metadata": {},
   "source": [
    "#### 1.4. Downloading images"
   ]
  },
  {
   "cell_type": "markdown",
   "metadata": {},
   "source": [
    "The LiDAR data has been obtained from the Spanish National Geographic Institute of the PNOA (National Plan of Aerial Orthophotography) <a href=\"http://centrodedescargas.cnig.es/CentroDescargas/catalogo.do?Serie=LIDAR\">link</a>. \n",
    "\n",
    "1- Selecet LIDAR 2ª Cobertura (2015-Actualidad).\n",
    "\n",
    "2- Select valencian community from top left.\n",
    "\n",
    "3- Choose which data year we want to download. "
   ]
  },
  {
   "cell_type": "markdown",
   "metadata": {},
   "source": [
    "### 2. Dataset processing"
   ]
  },
  {
   "cell_type": "markdown",
   "metadata": {},
   "source": [
    "#### 2.1 Remove noise data and create DEM (Digital Elevation Model)"
   ]
  },
  {
   "cell_type": "markdown",
   "metadata": {},
   "source": [
    "The first step in Point cloud data is removing noise points. The filter used was the Radius Outlier Removal filter (ROR) due to its good results compared to other filters.\n"
   ]
  },
  {
   "cell_type": "markdown",
   "metadata": {},
   "source": [
    "A Digital Elevation Model (DEM) or Digital Terrain Model (DTM) is a representation of the bare ground (bare earth) topographic surface of the Earth excluding trees, buildings, and any other surface objects. \n",
    "\n",
    "In this case we want to ignore any LiDAR classification values that may have already been calculated so that we can derive our own. In this example we apply a value of 0 (not classified) to the Classification dimension for every point.\n"
   ]
  },
  {
   "cell_type": "markdown",
   "metadata": {},
   "source": [
    "The PDAL (Point Data Abstraction Library) is a very powerful tool for processing LiDAR point cloud data and very adept at extracting surface models based on point classification and filtering algorithms.\n",
    "\n",
    "PDAL allows the composition of operations on point clouds into ‘pipelines’. These pipelines are written in the JSON format and define each step for the processing of the data in a sequence. This leads itself to highly customisable point cloud processing, that is repeatable and runs many steps in one execution of the program.\n",
    "\n"
   ]
  },
  {
   "cell_type": "markdown",
   "metadata": {},
   "source": [
    "Define dem_extract function  that read lidar images (laz extension), then remove noise data, extract DEM and save the new image as tif extension."
   ]
  },
  {
   "cell_type": "markdown",
   "metadata": {},
   "source": [
    "#### 2.2  Remove noise data and Create DSM (Digital Surface Model)\n"
   ]
  },
  {
   "cell_type": "markdown",
   "metadata": {},
   "source": [
    "Digital Surface Model (DSM) represents the top of the earth’s surface. It includes TREES, BUILDINGS and other objects that sit on the earth.\n",
    "\n",
    "To Extract DSM we will write dsm_extract function that has pipeline composed for extracting the DSM from the cleaned LiDAR point cloud."
   ]
  },
  {
   "cell_type": "markdown",
   "metadata": {},
   "source": [
    "In this case we want to ignore any LiDAR classification values that may have already been calculated so that we can derive our own. In this example we apply a value of 0 (not classified) to the Classification dimension for every point.\n",
    "\n"
   ]
  },
  {
   "cell_type": "markdown",
   "metadata": {},
   "source": [
    "Any time we have points classified as ground, we may wish to extract just these points, e.g., to create a digital terrain model (DTM). In this case, we use a range filter as shown.\n",
    "\n"
   ]
  },
  {
   "cell_type": "markdown",
   "metadata": {},
   "source": [
    "Create neccesary folders to save lidars.Then, save lidar in temporary folder"
   ]
  },
  {
   "cell_type": "markdown",
   "metadata": {},
   "source": [
    "\n",
    "#### 2.3  Create CHM (Canopy Height Model)"
   ]
  },
  {
   "cell_type": "markdown",
   "metadata": {},
   "source": [
    "The height or residual distance between the ground and the top of the of objects above the ground. This includes the actual heights of trees, builds and any other objects on the earth’s surface. This CHM is created by subtracting the DTM from the DSM.\n"
   ]
  },
  {
   "cell_type": "markdown",
   "metadata": {},
   "source": [
    "Once the DSM and DTM models have are computed, GDAL can be used to run a raster calculator to output the CHM.\n",
    "\n"
   ]
  },
  {
   "cell_type": "markdown",
   "metadata": {},
   "source": [
    "## Topography characteristics"
   ]
  },
  {
   "cell_type": "markdown",
   "metadata": {},
   "source": [
    "Topography Landscape topography has an impact on the environmental conditions, the amount of certain types  of  vegetation,  and  therefore,  has  a  direct  influence  upon  fire  propagation.  In  the following,  we  focus  on  the  aspect,  slope  and  elevation  that  are  input  variables  of  fire  spread models and that can be retrieved using LiDAR.  "
   ]
  },
  {
   "cell_type": "markdown",
   "metadata": {},
   "source": [
    "a) Aspect: the aspect is the direction a slope is facing. The solar orientation generally determines the amount of heat provided by the Sun and therefore has high influence on  the  amount,  condition  and  type  of  fuels.  South-southwest  slopes  are  more  exposed  to sunlight  and  often  correspond  to  lighter  and  sparser  fuels,  higher  temperatures,  lower humidity  and  lower  fuel  moisture.  They  consequently  are  most  critical  in  terms  of  start  and spread of wildland fires. On the contrary, north-facing slopes are less subjected to fire activity than  south-facing  slopes.  They  are  more  shaded,  which  leads  to  heavier  fuels,  lower temperature, higher humidity and higher fuel moisture. North-facing vs south-facing slopes.  \n",
    " "
   ]
  },
  {
   "cell_type": "markdown",
   "metadata": {},
   "source": [
    "b) Slope: it is the degree of incline of a hill side. The steeper  the slope, the faster  the  fire  spreads,  and  it  burns  more  rapidly uphill  than  downhill.  An explanation  for  these  two  phenomena  is  that  the  fuel  above  the  fire  is  brought  into  closer contact with the upward moving flames. Another concern about steep slopes is the possibility that burning materials roll down the hill and ignite the fuel below the main fire. A  surface  fire  is  primarily  influenced  by  the  amount  of  fuel  and  the  wind  speed,  but  a  fire starting near the bottom of a slope in normal daytime upslope wind conditions should spread faster and over a larger area than a fire starting near the top of the slope. "
   ]
  },
  {
   "cell_type": "code",
   "execution_count": 592,
   "metadata": {},
   "outputs": [
    {
     "name": "stdout",
     "output_type": "stream",
     "text": [
      "Lithops v2.2.3 init for IBM Cloud Functions - Namespace: ibm-cos_prueba - Region: us_east\n"
     ]
    },
    {
     "data": {
      "text/plain": [
       "['PNOA_2017_CLM-CAS_242-4422_ORT-CLA-IRC.laz',\n",
       " 'PNOA_2017_CLM-CAS_242-4422_ORT-CLA-RGB.laz',\n",
       " 'PNOA_2017_CLM-CAS_242-4424_ORT-CLA-IRC.laz',\n",
       " 'PNOA_2017_CLM-CAS_242-4424_ORT-CLA-RGB.laz',\n",
       " 'PNOA_2017_CLM-CAS_242-4426_ORT-CLA-IRC.laz',\n",
       " 'PNOA_2017_CLM-CAS_242-4426_ORT-CLA-RGB.laz',\n",
       " 'PNOA_2017_CLM-CAS_242-4428_ORT-CLA-IRC.laz',\n",
       " 'PNOA_2017_CLM-CAS_242-4428_ORT-CLA-RGB.laz',\n",
       " 'PNOA_2017_CLM-CAS_242-4430_ORT-CLA-IRC.laz',\n",
       " 'PNOA_2017_CLM-CAS_242-4430_ORT-CLA-RGB.laz',\n",
       " 'PNOA_2017_CLM-CAS_242-4432_ORT-CLA-IRC.laz',\n",
       " 'PNOA_2017_CLM-CAS_242-4432_ORT-CLA-RGB.laz',\n",
       " 'PNOA_2017_CLM-CAS_242-4434_ORT-CLA-IRC.laz',\n",
       " 'PNOA_2017_CLM-CAS_242-4434_ORT-CLA-RGB.laz',\n",
       " 'PNOA_2017_CLM-CAS_242-4436_ORT-CLA-IRC.laz',\n",
       " 'PNOA_2017_CLM-CAS_242-4436_ORT-CLA-RGB.laz',\n",
       " 'PNOA_2017_CLM-CAS_242-4438_ORT-CLA-IRC.laz',\n",
       " 'PNOA_2017_CLM-CAS_242-4438_ORT-CLA-RGB.laz',\n",
       " 'PNOA_2017_CLM-CAS_244-4428_ORT-CLA-IRC.laz',\n",
       " 'PNOA_2017_CLM-CAS_244-4428_ORT-CLA-RGB.laz']"
      ]
     },
     "execution_count": 592,
     "metadata": {},
     "output_type": "execute_result"
    }
   ],
   "source": [
    "# list the contents of ziad-cloudbutton bucket before doing any preprocessing \n",
    "fexec = lithops.FunctionExecutor(config = config, runtime = 'ziad06/imagecloud:pdal100', runtime_memory = 2048)\n",
    "fexec.storage.list_keys('ziad-cloudbutton')\n"
   ]
  },
  {
   "cell_type": "markdown",
   "metadata": {},
   "source": [
    "We create calculation function that receive lidar photo that exist in IBM cloud. Then,  the function does the steps that we explained it above (DEM, DSM, CHM, Aspect and Slope)."
   ]
  },
  {
   "cell_type": "code",
   "execution_count": 593,
   "metadata": {},
   "outputs": [],
   "source": [
    "def calculation(obj, ibm_cos):\n",
    "    \n",
    "    # Define locations \n",
    "    key = obj.key\n",
    "    bucket_name = 'ziad-cloudbutton'\n",
    "    loc_dsm = 'dsm/'\n",
    "    loc_dem = 'dem/'\n",
    "    loc_chm = 'chm/'\n",
    "    loc_aspect = 'aspect/'\n",
    "    loc_slope = 'slope/'\n",
    "    input_folder = \"input_folder/\"\n",
    "    \n",
    "    #-----------------------------------------------------------------------------------\n",
    "    # Create dsm, dem, chm, slope, aspect, and input folders to save the photos after doing process\n",
    "\n",
    "    if not os.path.exists(input_folder):\n",
    "        os.mkdir(input_folder)\n",
    "      \n",
    "    if not os.path.exists(loc_dsm):\n",
    "        os.mkdir(loc_dsm)\n",
    "    \n",
    "    if not os.path.exists(loc_dem):\n",
    "        os.mkdir(loc_dem)\n",
    "    \n",
    "    if not os.path.exists(loc_chm):\n",
    "        os.mkdir(loc_chm)\n",
    "        \n",
    "    if not os.path.exists(loc_aspect):\n",
    "        os.mkdir(loc_aspect)\n",
    "        \n",
    "    if not os.path.exists(loc_slope):\n",
    "        os.mkdir(loc_slope)\n",
    "        \n",
    "   #-----------------------------------------------------------------------------------\n",
    "   # Delete any file in dsm, dem, chm, slope, aspect, and input folders\n",
    "\n",
    "    files = os.listdir(loc_dsm)\n",
    "    if len(files) > 0:\n",
    "        for file in files:\n",
    "            file_path = os.path.join(loc_dsm, file)\n",
    "            os.unlink(file_path)\n",
    "            \n",
    "    files = os.listdir(loc_dem)\n",
    "    if len(files) > 0:\n",
    "        for file in files:\n",
    "            file_path = os.path.join(loc_dem, file)\n",
    "            os.unlink(file_path)\n",
    "            \n",
    "    files = os.listdir(loc_chm)\n",
    "    if len(files) > 0:\n",
    "        for file in files:\n",
    "            file_path = os.path.join(loc_chm, file)\n",
    "            os.unlink(file_path)\n",
    "            \n",
    "    files = os.listdir(loc_slope)\n",
    "    if len(files) > 0:\n",
    "        for file in files:\n",
    "            file_path = os.path.join(loc_slope, file)\n",
    "            os.unlink(file_path)\n",
    "            \n",
    "    files = os.listdir(loc_aspect)\n",
    "    if len(files) > 0:\n",
    "        for file in files:\n",
    "            file_path = os.path.join(loc_aspect, file)\n",
    "            os.unlink(file_path)\n",
    "            \n",
    "            \n",
    "    files = os.listdir(input_folder)\n",
    "    if len(files) > 0:\n",
    "        for file in files:\n",
    "            file_path = os.path.join(input_folder, file)\n",
    "            os.unlink(file_path)\n",
    "    # -----------------------------------------------------------------------------------      \n",
    "    # We interested just in laz photos\n",
    "    if '.laz' in key:\n",
    "       \n",
    "\n",
    "\n",
    "        # Read data stream of object\n",
    "        data = obj.data_stream.read()   \n",
    "        \n",
    "        # Save data into file \n",
    "        s_file = input_folder + key\n",
    "        with open(s_file, 'wb') as fname:\n",
    "            fname.write(data)\n",
    "\n",
    "        # -----------------------------------------------------------------------------------  \n",
    "        # define variables name \n",
    "       \n",
    "        lasfile = fname.name\n",
    "        filez =key.split(\".\")[0]\n",
    "        outputfile_dsm = loc_dsm +  f\"dsm_{filez}.tif\"\n",
    "        outputfile_dem = loc_dem +  f\"dem_{filez}.tif\"\n",
    "\n",
    "        inputfiles_dem = f\"dem/dem_{filez}.tif\"\n",
    "        inputfiles_dsm = f\"dsm/dsm_{filez}.tif\"\n",
    "        outputfile_chm = f\"chm/chm_{filez}.tif\"\n",
    "        outputfile_aspect = f\"aspect/aspect_{filez}.tif\"\n",
    "        outputfile_slope =  f\"slope/slope_{filez}.tif\"\n",
    "       \n",
    "        # -----------------------------------------------------------------------------------  \n",
    "        # calculate DSM\n",
    "        creating_json = {\n",
    "                \"pipeline\": [\n",
    "                {\n",
    "                        \"type\": \"readers.las\",\n",
    "                        \"filename\": f\"{lasfile}\",\n",
    "                        \"spatialreference\": \"EPSG:25830\"\n",
    "                },\n",
    "                {\n",
    "\n",
    "                        \"type\":\"filters.reprojection\",\n",
    "\n",
    "                        \"in_srs\":\"EPSG:25830\",\n",
    "\n",
    "                        \"out_srs\":\"EPSG:25830\"\n",
    "\n",
    "                },\n",
    "                {\n",
    "                        \"type\":\"filters.outlier\",\n",
    "                        \"method\":\"radius\",\n",
    "                        \"radius\":1.0,\n",
    "                        \"min_k\":4\n",
    "                },\n",
    "                {\n",
    "                        \"type\":\"filters.range\",\n",
    "                        \"limits\":\"Classification![7:7]\"  # Classification equals 2 (corresponding to noise points in LAS).\n",
    "                },\n",
    "                {\n",
    "                        \"type\":\"filters.range\",\n",
    "                        \"limits\":\"returnnumber[1:1]\"\n",
    "\n",
    "                },\n",
    "\n",
    "\n",
    "                {\n",
    "                        \"type\": \"writers.gdal\",\n",
    "                        \"gdaldriver\": \"GTiff\",\n",
    "                        \"nodata\": \"-9999\",\n",
    "                        \"output_type\": \"max\",\n",
    "                        \"resolution\": 1, \n",
    "                        \"filename\": f\"{outputfile_dsm}\"\n",
    "                }\n",
    "                \n",
    "                ]\n",
    "        }\n",
    "        consulta = json.dumps(creating_json, indent = 4)\n",
    "        pipeline = pdal.Pipeline(consulta)\n",
    "        pipeline.validate()  # Check if json options are good\n",
    "        pipeline.loglevel = 8\n",
    "        count = pipeline.execute()    \n",
    "        \n",
    "        # calcualte DEM\n",
    "        creating_json = {\n",
    "                    \"pipeline\": [\n",
    "\n",
    "                    {\n",
    "                            \"type\": \"readers.las\",\n",
    "                            \"filename\": f\"{lasfile}\",\n",
    "                            \"spatialreference\": \"EPSG:25830\"\n",
    "                    },\n",
    "\n",
    "\n",
    "                    {\n",
    "                            \"type\":\"filters.reprojection\",\n",
    "                            \"in_srs\":\"EPSG:25830\",\n",
    "                            \"out_srs\":\"EPSG:25830\"\n",
    "                    },\n",
    "\n",
    "\n",
    "                    {\n",
    "                          \"type\":\"filters.assign\",\n",
    "                          \"assignment\":\"Classification[:]=0\"\n",
    "                    },\n",
    "\n",
    "\n",
    "                     {\n",
    "                              \"type\":\"filters.elm\"\n",
    "                    },\n",
    "\n",
    "                    {\n",
    "                            \"type\":\"filters.outlier\",\n",
    "                            \"method\":\"radius\",\n",
    "                            \"radius\":1.0,\n",
    "                            \"min_k\":4\n",
    "                    },\n",
    "                    {\n",
    "\n",
    "                          \"type\":\"filters.smrf\",\n",
    "                          \"ignore\":\"Classification[7:7]\",\n",
    "                          \"slope\":0.2,\n",
    "                          \"window\":16,\n",
    "                          \"threshold\":0.45,\n",
    "                          \"scalar\":1.2\n",
    "                    },\n",
    "\n",
    "                    {\n",
    "                            \"type\": \"filters.range\",\n",
    "                            \"limits\": \"Classification[2:2]\", # Classification equals 2 (corresponding to ground in LAS).\n",
    "\n",
    "\n",
    "\n",
    "                    },\n",
    "\n",
    "\n",
    "                    {\n",
    "                            \"type\": \"writers.gdal\",\n",
    "                            \"gdaldriver\": \"GTiff\",\n",
    "                            \"nodata\": \"-9999\",\n",
    "                            \"output_type\": \"max\",\n",
    "                            \"resolution\": 1, \n",
    "                            \"filename\": f\"{outputfile_dem}\"\n",
    "                    }\n",
    "\n",
    "                    ]\n",
    "            }\n",
    "        consulta = json.dumps(creating_json, indent = 4)\n",
    "        pipeline = pdal.Pipeline(consulta)\n",
    "        pipeline.validate()  # Check if json options are good\n",
    "        pipeline.loglevel = 8\n",
    "        count = pipeline.execute()  \n",
    "        \n",
    "        # calculate CHM\n",
    "        command = 'gdal_calc.py -A {0} -B {1}   --calc=\"B-A\" --NoDataValue=0  --outfile {2}'.format(inputfiles_dem,inputfiles_dsm, outputfile_chm)\n",
    "        os.system(command)\n",
    "        \n",
    "        # calculate aspect\n",
    "        command = 'gdaldem  aspect {0}  {1} -compute_edges'.format(inputfiles_dem,outputfile_aspect)\n",
    "        os.system(command)\n",
    "        \n",
    "        # calculate slope\n",
    "        command = 'gdaldem  slope {0}  {1} -compute_edges'.format(inputfiles_dem,outputfile_slope)\n",
    "        os.system(command)\n",
    "   \n",
    "        \n",
    "        \n",
    "        \n",
    "        #Upload files into COS\n",
    "        \n",
    "        #Upload DEM\n",
    "        for r, d, f in os.walk(loc_dem): # r=root, d=directories, f = files\n",
    "            for file in f:\n",
    "                ibm_cos.upload_file(Filename = loc_dem + file, Bucket = bucket_name, Key =  loc_dem + file)\n",
    "                \n",
    "        #Upload DSM\n",
    "        for r, d, f in os.walk(loc_dsm): # r=root, d=directories, f = files\n",
    "            for file in f:\n",
    "                ibm_cos.upload_file(Filename = loc_dsm + file, Bucket = bucket_name, Key = loc_dsm + file)\n",
    "                \n",
    "        #Upload CHM\n",
    "        for r, d, f in os.walk(loc_chm): # r=root, d=directories, f = files\n",
    "            for file in f:\n",
    "                ibm_cos.upload_file(Filename = loc_chm + file, Bucket = bucket_name, Key = loc_chm + file)\n",
    "            \n",
    "        #Upload slope\n",
    "        for r, d, f in os.walk(loc_slope): # r=root, d=directories, f = files\n",
    "            for file in f:\n",
    "                ibm_cos.upload_file(Filename = loc_slope + file, Bucket = bucket_name, Key = loc_slope + file)\n",
    "                \n",
    "        #Upload aspect\n",
    "        for r, d, f in os.walk(loc_aspect): # r=root, d=directories, f = files\n",
    "            for file in f:\n",
    "                ibm_cos.upload_file(Filename = loc_aspect + file, Bucket = bucket_name, Key = loc_aspect + file)\n",
    "                \n",
    "        # the calculation function return done if and only if the obj is laz file         \n",
    "        return 'Done!'\n",
    "    else:\n",
    "        # if the object isnt laz file return fail\n",
    "        return 'Fail!'\n",
    "    \n",
    "data_location = 'ziad-cloudbutton'\n",
    "\n"
   ]
  },
  {
   "cell_type": "markdown",
   "metadata": {},
   "source": [
    "Apply preprocessing steps using Lithops"
   ]
  },
  {
   "cell_type": "code",
   "execution_count": 602,
   "metadata": {},
   "outputs": [
    {
     "name": "stdout",
     "output_type": "stream",
     "text": [
      "Lithops v2.2.3 init for IBM Cloud Functions - Namespace: ibm-cos_prueba - Region: us_east\n",
      "ExecutorID 9854f3/193 | JobID M000 - Selected Runtime: ziad06/imagecloud:pdal100 - 4096MB \n",
      "ExecutorID 9854f3/193 | JobID M000 - Uploading function and data - Total: 597.6KiB\n",
      "ExecutorID 9854f3/193 | JobID M000 - Starting function invocation: calculation() - Total: 20 activations\n",
      "ExecutorID 9854f3/193 - Waiting for functions to complete...\n"
     ]
    },
    {
     "data": {
      "application/vnd.jupyter.widget-view+json": {
       "model_id": "92985070c8ea43aab1d954fa72663fed",
       "version_major": 2,
       "version_minor": 0
      },
      "text/plain": [
       "HBox(children=(HTML(value=''), FloatProgress(value=0.0, max=20.0), HTML(value='')))"
      ]
     },
     "metadata": {},
     "output_type": "display_data"
    },
    {
     "name": "stdout",
     "output_type": "stream",
     "text": [
      "\n"
     ]
    },
    {
     "data": {
      "text/plain": [
       "([<lithops.future.ResponseFuture at 0x7ff09c230550>,\n",
       "  <lithops.future.ResponseFuture at 0x7ff09c230280>,\n",
       "  <lithops.future.ResponseFuture at 0x7ff09c230490>,\n",
       "  <lithops.future.ResponseFuture at 0x7ff09c230040>,\n",
       "  <lithops.future.ResponseFuture at 0x7ff09c230400>,\n",
       "  <lithops.future.ResponseFuture at 0x7ff09c2309d0>,\n",
       "  <lithops.future.ResponseFuture at 0x7ff09c230fd0>,\n",
       "  <lithops.future.ResponseFuture at 0x7ff09c230820>,\n",
       "  <lithops.future.ResponseFuture at 0x7ff09c230af0>,\n",
       "  <lithops.future.ResponseFuture at 0x7ff09c2309a0>,\n",
       "  <lithops.future.ResponseFuture at 0x7ff09c2306a0>,\n",
       "  <lithops.future.ResponseFuture at 0x7ff09c230ca0>,\n",
       "  <lithops.future.ResponseFuture at 0x7ff09c2304f0>,\n",
       "  <lithops.future.ResponseFuture at 0x7ff09c230790>,\n",
       "  <lithops.future.ResponseFuture at 0x7ff09c230c40>,\n",
       "  <lithops.future.ResponseFuture at 0x7ff09c230250>,\n",
       "  <lithops.future.ResponseFuture at 0x7ff09c230d30>,\n",
       "  <lithops.future.ResponseFuture at 0x7ff09c230e50>,\n",
       "  <lithops.future.ResponseFuture at 0x7ff09c230b80>,\n",
       "  <lithops.future.ResponseFuture at 0x7ff09c230a00>],\n",
       " [])"
      ]
     },
     "execution_count": 602,
     "metadata": {},
     "output_type": "execute_result"
    }
   ],
   "source": [
    "fexec = lithops.FunctionExecutor(config = config, runtime = 'ziad06/imagecloud:pdal100', runtime_memory = 4096)\n",
    "fexec.map(calculation, data_location)\n",
    "fexec.wait()"
   ]
  },
  {
   "cell_type": "code",
   "execution_count": 603,
   "metadata": {},
   "outputs": [
    {
     "data": {
      "text/plain": [
       "['PNOA_2017_CLM-CAS_242-4422_ORT-CLA-IRC.laz',\n",
       " 'PNOA_2017_CLM-CAS_242-4422_ORT-CLA-RGB.laz',\n",
       " 'PNOA_2017_CLM-CAS_242-4424_ORT-CLA-IRC.laz',\n",
       " 'PNOA_2017_CLM-CAS_242-4424_ORT-CLA-RGB.laz',\n",
       " 'PNOA_2017_CLM-CAS_242-4426_ORT-CLA-IRC.laz',\n",
       " 'PNOA_2017_CLM-CAS_242-4426_ORT-CLA-RGB.laz',\n",
       " 'PNOA_2017_CLM-CAS_242-4428_ORT-CLA-IRC.laz',\n",
       " 'PNOA_2017_CLM-CAS_242-4428_ORT-CLA-RGB.laz',\n",
       " 'PNOA_2017_CLM-CAS_242-4430_ORT-CLA-IRC.laz',\n",
       " 'PNOA_2017_CLM-CAS_242-4430_ORT-CLA-RGB.laz',\n",
       " 'PNOA_2017_CLM-CAS_242-4432_ORT-CLA-IRC.laz',\n",
       " 'PNOA_2017_CLM-CAS_242-4432_ORT-CLA-RGB.laz',\n",
       " 'PNOA_2017_CLM-CAS_242-4434_ORT-CLA-IRC.laz',\n",
       " 'PNOA_2017_CLM-CAS_242-4434_ORT-CLA-RGB.laz',\n",
       " 'PNOA_2017_CLM-CAS_242-4436_ORT-CLA-IRC.laz',\n",
       " 'PNOA_2017_CLM-CAS_242-4436_ORT-CLA-RGB.laz',\n",
       " 'PNOA_2017_CLM-CAS_242-4438_ORT-CLA-IRC.laz',\n",
       " 'PNOA_2017_CLM-CAS_242-4438_ORT-CLA-RGB.laz',\n",
       " 'PNOA_2017_CLM-CAS_244-4428_ORT-CLA-IRC.laz',\n",
       " 'PNOA_2017_CLM-CAS_244-4428_ORT-CLA-RGB.laz',\n",
       " 'aspect/aspect_PNOA_2017_CLM-CAS_242-4422_ORT-CLA-IRC.tif',\n",
       " 'aspect/aspect_PNOA_2017_CLM-CAS_242-4422_ORT-CLA-RGB.tif',\n",
       " 'aspect/aspect_PNOA_2017_CLM-CAS_242-4424_ORT-CLA-IRC.tif',\n",
       " 'aspect/aspect_PNOA_2017_CLM-CAS_242-4424_ORT-CLA-RGB.tif',\n",
       " 'aspect/aspect_PNOA_2017_CLM-CAS_242-4426_ORT-CLA-IRC.tif',\n",
       " 'aspect/aspect_PNOA_2017_CLM-CAS_242-4426_ORT-CLA-RGB.tif',\n",
       " 'aspect/aspect_PNOA_2017_CLM-CAS_242-4428_ORT-CLA-IRC.tif',\n",
       " 'aspect/aspect_PNOA_2017_CLM-CAS_242-4428_ORT-CLA-RGB.tif',\n",
       " 'aspect/aspect_PNOA_2017_CLM-CAS_242-4430_ORT-CLA-IRC.tif',\n",
       " 'aspect/aspect_PNOA_2017_CLM-CAS_242-4430_ORT-CLA-RGB.tif',\n",
       " 'aspect/aspect_PNOA_2017_CLM-CAS_242-4432_ORT-CLA-IRC.tif',\n",
       " 'aspect/aspect_PNOA_2017_CLM-CAS_242-4432_ORT-CLA-RGB.tif',\n",
       " 'aspect/aspect_PNOA_2017_CLM-CAS_242-4434_ORT-CLA-IRC.tif',\n",
       " 'aspect/aspect_PNOA_2017_CLM-CAS_242-4434_ORT-CLA-RGB.tif',\n",
       " 'aspect/aspect_PNOA_2017_CLM-CAS_242-4436_ORT-CLA-IRC.tif',\n",
       " 'aspect/aspect_PNOA_2017_CLM-CAS_242-4436_ORT-CLA-RGB.tif',\n",
       " 'aspect/aspect_PNOA_2017_CLM-CAS_242-4438_ORT-CLA-IRC.tif',\n",
       " 'aspect/aspect_PNOA_2017_CLM-CAS_242-4438_ORT-CLA-RGB.tif',\n",
       " 'aspect/aspect_PNOA_2017_CLM-CAS_244-4428_ORT-CLA-IRC.tif',\n",
       " 'aspect/aspect_PNOA_2017_CLM-CAS_244-4428_ORT-CLA-RGB.tif',\n",
       " 'chm/chm_PNOA_2017_CLM-CAS_242-4422_ORT-CLA-IRC.tif',\n",
       " 'chm/chm_PNOA_2017_CLM-CAS_242-4422_ORT-CLA-RGB.tif',\n",
       " 'chm/chm_PNOA_2017_CLM-CAS_242-4424_ORT-CLA-IRC.tif',\n",
       " 'chm/chm_PNOA_2017_CLM-CAS_242-4424_ORT-CLA-RGB.tif',\n",
       " 'chm/chm_PNOA_2017_CLM-CAS_242-4426_ORT-CLA-IRC.tif',\n",
       " 'chm/chm_PNOA_2017_CLM-CAS_242-4426_ORT-CLA-RGB.tif',\n",
       " 'chm/chm_PNOA_2017_CLM-CAS_242-4428_ORT-CLA-IRC.tif',\n",
       " 'chm/chm_PNOA_2017_CLM-CAS_242-4428_ORT-CLA-RGB.tif',\n",
       " 'chm/chm_PNOA_2017_CLM-CAS_242-4430_ORT-CLA-IRC.tif',\n",
       " 'chm/chm_PNOA_2017_CLM-CAS_242-4430_ORT-CLA-RGB.tif',\n",
       " 'chm/chm_PNOA_2017_CLM-CAS_242-4432_ORT-CLA-IRC.tif',\n",
       " 'chm/chm_PNOA_2017_CLM-CAS_242-4432_ORT-CLA-RGB.tif',\n",
       " 'chm/chm_PNOA_2017_CLM-CAS_242-4434_ORT-CLA-IRC.tif',\n",
       " 'chm/chm_PNOA_2017_CLM-CAS_242-4434_ORT-CLA-RGB.tif',\n",
       " 'chm/chm_PNOA_2017_CLM-CAS_242-4436_ORT-CLA-IRC.tif',\n",
       " 'chm/chm_PNOA_2017_CLM-CAS_242-4436_ORT-CLA-RGB.tif',\n",
       " 'chm/chm_PNOA_2017_CLM-CAS_242-4438_ORT-CLA-IRC.tif',\n",
       " 'chm/chm_PNOA_2017_CLM-CAS_242-4438_ORT-CLA-RGB.tif',\n",
       " 'chm/chm_PNOA_2017_CLM-CAS_244-4428_ORT-CLA-IRC.tif',\n",
       " 'chm/chm_PNOA_2017_CLM-CAS_244-4428_ORT-CLA-RGB.tif',\n",
       " 'dem/dem_PNOA_2017_CLM-CAS_242-4422_ORT-CLA-IRC.tif',\n",
       " 'dem/dem_PNOA_2017_CLM-CAS_242-4422_ORT-CLA-RGB.tif',\n",
       " 'dem/dem_PNOA_2017_CLM-CAS_242-4424_ORT-CLA-IRC.tif',\n",
       " 'dem/dem_PNOA_2017_CLM-CAS_242-4424_ORT-CLA-RGB.tif',\n",
       " 'dem/dem_PNOA_2017_CLM-CAS_242-4426_ORT-CLA-IRC.tif',\n",
       " 'dem/dem_PNOA_2017_CLM-CAS_242-4426_ORT-CLA-RGB.tif',\n",
       " 'dem/dem_PNOA_2017_CLM-CAS_242-4428_ORT-CLA-IRC.tif',\n",
       " 'dem/dem_PNOA_2017_CLM-CAS_242-4428_ORT-CLA-RGB.tif',\n",
       " 'dem/dem_PNOA_2017_CLM-CAS_242-4430_ORT-CLA-IRC.tif',\n",
       " 'dem/dem_PNOA_2017_CLM-CAS_242-4430_ORT-CLA-RGB.tif',\n",
       " 'dem/dem_PNOA_2017_CLM-CAS_242-4432_ORT-CLA-IRC.tif',\n",
       " 'dem/dem_PNOA_2017_CLM-CAS_242-4432_ORT-CLA-RGB.tif',\n",
       " 'dem/dem_PNOA_2017_CLM-CAS_242-4434_ORT-CLA-IRC.tif',\n",
       " 'dem/dem_PNOA_2017_CLM-CAS_242-4434_ORT-CLA-RGB.tif',\n",
       " 'dem/dem_PNOA_2017_CLM-CAS_242-4436_ORT-CLA-IRC.tif',\n",
       " 'dem/dem_PNOA_2017_CLM-CAS_242-4436_ORT-CLA-RGB.tif',\n",
       " 'dem/dem_PNOA_2017_CLM-CAS_242-4438_ORT-CLA-IRC.tif',\n",
       " 'dem/dem_PNOA_2017_CLM-CAS_242-4438_ORT-CLA-RGB.tif',\n",
       " 'dem/dem_PNOA_2017_CLM-CAS_244-4428_ORT-CLA-IRC.tif',\n",
       " 'dem/dem_PNOA_2017_CLM-CAS_244-4428_ORT-CLA-RGB.tif',\n",
       " 'dsm/dsm_PNOA_2017_CLM-CAS_242-4422_ORT-CLA-IRC.tif',\n",
       " 'dsm/dsm_PNOA_2017_CLM-CAS_242-4422_ORT-CLA-RGB.tif',\n",
       " 'dsm/dsm_PNOA_2017_CLM-CAS_242-4424_ORT-CLA-IRC.tif',\n",
       " 'dsm/dsm_PNOA_2017_CLM-CAS_242-4424_ORT-CLA-RGB.tif',\n",
       " 'dsm/dsm_PNOA_2017_CLM-CAS_242-4426_ORT-CLA-IRC.tif',\n",
       " 'dsm/dsm_PNOA_2017_CLM-CAS_242-4426_ORT-CLA-RGB.tif',\n",
       " 'dsm/dsm_PNOA_2017_CLM-CAS_242-4428_ORT-CLA-IRC.tif',\n",
       " 'dsm/dsm_PNOA_2017_CLM-CAS_242-4428_ORT-CLA-RGB.tif',\n",
       " 'dsm/dsm_PNOA_2017_CLM-CAS_242-4430_ORT-CLA-IRC.tif',\n",
       " 'dsm/dsm_PNOA_2017_CLM-CAS_242-4430_ORT-CLA-RGB.tif',\n",
       " 'dsm/dsm_PNOA_2017_CLM-CAS_242-4432_ORT-CLA-IRC.tif',\n",
       " 'dsm/dsm_PNOA_2017_CLM-CAS_242-4432_ORT-CLA-RGB.tif',\n",
       " 'dsm/dsm_PNOA_2017_CLM-CAS_242-4434_ORT-CLA-IRC.tif',\n",
       " 'dsm/dsm_PNOA_2017_CLM-CAS_242-4434_ORT-CLA-RGB.tif',\n",
       " 'dsm/dsm_PNOA_2017_CLM-CAS_242-4436_ORT-CLA-IRC.tif',\n",
       " 'dsm/dsm_PNOA_2017_CLM-CAS_242-4436_ORT-CLA-RGB.tif',\n",
       " 'dsm/dsm_PNOA_2017_CLM-CAS_242-4438_ORT-CLA-IRC.tif',\n",
       " 'dsm/dsm_PNOA_2017_CLM-CAS_242-4438_ORT-CLA-RGB.tif',\n",
       " 'dsm/dsm_PNOA_2017_CLM-CAS_244-4428_ORT-CLA-IRC.tif',\n",
       " 'dsm/dsm_PNOA_2017_CLM-CAS_244-4428_ORT-CLA-RGB.tif',\n",
       " 'slope/slope_PNOA_2017_CLM-CAS_242-4422_ORT-CLA-IRC.tif',\n",
       " 'slope/slope_PNOA_2017_CLM-CAS_242-4422_ORT-CLA-RGB.tif',\n",
       " 'slope/slope_PNOA_2017_CLM-CAS_242-4424_ORT-CLA-IRC.tif',\n",
       " 'slope/slope_PNOA_2017_CLM-CAS_242-4424_ORT-CLA-RGB.tif',\n",
       " 'slope/slope_PNOA_2017_CLM-CAS_242-4426_ORT-CLA-IRC.tif',\n",
       " 'slope/slope_PNOA_2017_CLM-CAS_242-4426_ORT-CLA-RGB.tif',\n",
       " 'slope/slope_PNOA_2017_CLM-CAS_242-4428_ORT-CLA-IRC.tif',\n",
       " 'slope/slope_PNOA_2017_CLM-CAS_242-4428_ORT-CLA-RGB.tif',\n",
       " 'slope/slope_PNOA_2017_CLM-CAS_242-4430_ORT-CLA-IRC.tif',\n",
       " 'slope/slope_PNOA_2017_CLM-CAS_242-4430_ORT-CLA-RGB.tif',\n",
       " 'slope/slope_PNOA_2017_CLM-CAS_242-4432_ORT-CLA-IRC.tif',\n",
       " 'slope/slope_PNOA_2017_CLM-CAS_242-4432_ORT-CLA-RGB.tif',\n",
       " 'slope/slope_PNOA_2017_CLM-CAS_242-4434_ORT-CLA-IRC.tif',\n",
       " 'slope/slope_PNOA_2017_CLM-CAS_242-4434_ORT-CLA-RGB.tif',\n",
       " 'slope/slope_PNOA_2017_CLM-CAS_242-4436_ORT-CLA-IRC.tif',\n",
       " 'slope/slope_PNOA_2017_CLM-CAS_242-4436_ORT-CLA-RGB.tif',\n",
       " 'slope/slope_PNOA_2017_CLM-CAS_242-4438_ORT-CLA-IRC.tif',\n",
       " 'slope/slope_PNOA_2017_CLM-CAS_242-4438_ORT-CLA-RGB.tif',\n",
       " 'slope/slope_PNOA_2017_CLM-CAS_244-4428_ORT-CLA-IRC.tif',\n",
       " 'slope/slope_PNOA_2017_CLM-CAS_244-4428_ORT-CLA-RGB.tif']"
      ]
     },
     "execution_count": 603,
     "metadata": {},
     "output_type": "execute_result"
    }
   ],
   "source": [
    "# list the contents of ziad-cloudbutton bucket after doing preprocessing steps\n",
    "fexec.storage.list_keys('ziad-cloudbutton')\n"
   ]
  },
  {
   "cell_type": "markdown",
   "metadata": {},
   "source": [
    "###  Machine Learning - KMeans\n"
   ]
  },
  {
   "cell_type": "markdown",
   "metadata": {},
   "source": [
    "We use clustering to group pixels together based on their similarities because we have no information about which ones belong together."
   ]
  },
  {
   "cell_type": "markdown",
   "metadata": {},
   "source": [
    "Prepare the names of data that we would train it."
   ]
  },
  {
   "cell_type": "markdown",
   "metadata": {},
   "source": [
    "prepare_data function reads dem, slope and aspect images. Then save all images in one file to use it in training step."
   ]
  },
  {
   "cell_type": "code",
   "execution_count": 1757,
   "metadata": {},
   "outputs": [
    {
     "name": "stdout",
     "output_type": "stream",
     "text": [
      "Lithops v2.2.3 init for IBM Cloud Functions - Namespace: ibm-cos_prueba - Region: us_east\n",
      "ExecutorID 9854f3/806 | JobID A000 - Selected Runtime: ziad06/imagecloud:pdal100 - 4096MB \n",
      "ExecutorID 9854f3/806 | JobID A000 - Uploading function and data - Total: 1.5KiB\n",
      "ExecutorID 9854f3/806 | JobID A000 - Starting function invocation: prepare_data() - Total: 1 activations\n",
      "ExecutorID 9854f3/806 - Getting results...\n"
     ]
    },
    {
     "data": {
      "application/vnd.jupyter.widget-view+json": {
       "model_id": "3fdd35f5501347f088d2b91feb2a5075",
       "version_major": 2,
       "version_minor": 0
      },
      "text/plain": [
       "HBox(children=(HTML(value=''), FloatProgress(value=0.0, max=1.0), HTML(value='')))"
      ]
     },
     "metadata": {},
     "output_type": "display_data"
    },
    {
     "name": "stdout",
     "output_type": "stream",
     "text": [
      "\n",
      "ExecutorID 9854f3/806 - Cleaning temporary data\n",
      "ExecutorID 9854f3/806 | JobID A001 - Selected Runtime: ziad06/imagecloud:pdal100 - 4096MB \n",
      "ExecutorID 9854f3/806 | JobID A001 - Uploading function and data - Total: 1.5KiB\n",
      "ExecutorID 9854f3/806 | JobID A001 - Starting function invocation: prepare_data() - Total: 1 activations\n",
      "ExecutorID 9854f3/806 - Getting results...\n"
     ]
    },
    {
     "data": {
      "application/vnd.jupyter.widget-view+json": {
       "model_id": "a863745e312e48d4896eb3a4859b1b2d",
       "version_major": 2,
       "version_minor": 0
      },
      "text/plain": [
       "HBox(children=(HTML(value=''), FloatProgress(value=0.0, max=1.0), HTML(value='')))"
      ]
     },
     "metadata": {},
     "output_type": "display_data"
    },
    {
     "name": "stdout",
     "output_type": "stream",
     "text": [
      "\n",
      "ExecutorID 9854f3/806 - Cleaning temporary data\n",
      "ExecutorID 9854f3/806 | JobID A002 - Selected Runtime: ziad06/imagecloud:pdal100 - 4096MB \n",
      "ExecutorID 9854f3/806 | JobID A002 - Uploading function and data - Total: 1.5KiB\n",
      "ExecutorID 9854f3/806 | JobID A002 - Starting function invocation: prepare_data() - Total: 1 activations\n",
      "ExecutorID 9854f3/806 - Getting results...\n"
     ]
    },
    {
     "data": {
      "application/vnd.jupyter.widget-view+json": {
       "model_id": "4f16a32c450e4794825bd7cd505dea12",
       "version_major": 2,
       "version_minor": 0
      },
      "text/plain": [
       "HBox(children=(HTML(value=''), FloatProgress(value=0.0, max=1.0), HTML(value='')))"
      ]
     },
     "metadata": {},
     "output_type": "display_data"
    },
    {
     "name": "stdout",
     "output_type": "stream",
     "text": [
      "\n",
      "ExecutorID 9854f3/806 - Cleaning temporary data\n",
      "ExecutorID 9854f3/806 | JobID A003 - Selected Runtime: ziad06/imagecloud:pdal100 - 4096MB \n",
      "ExecutorID 9854f3/806 | JobID A003 - Uploading function and data - Total: 1.5KiB\n",
      "ExecutorID 9854f3/806 | JobID A003 - Starting function invocation: prepare_data() - Total: 1 activations\n",
      "ExecutorID 9854f3/806 - Getting results...\n"
     ]
    },
    {
     "data": {
      "application/vnd.jupyter.widget-view+json": {
       "model_id": "f227981e017f46b49932bb7887fc8bff",
       "version_major": 2,
       "version_minor": 0
      },
      "text/plain": [
       "HBox(children=(HTML(value=''), FloatProgress(value=0.0, max=1.0), HTML(value='')))"
      ]
     },
     "metadata": {},
     "output_type": "display_data"
    },
    {
     "name": "stdout",
     "output_type": "stream",
     "text": [
      "\n",
      "ExecutorID 9854f3/806 - Cleaning temporary data\n",
      "ExecutorID 9854f3/806 | JobID A004 - Selected Runtime: ziad06/imagecloud:pdal100 - 4096MB \n",
      "ExecutorID 9854f3/806 | JobID A004 - Uploading function and data - Total: 1.5KiB\n",
      "ExecutorID 9854f3/806 | JobID A004 - Starting function invocation: prepare_data() - Total: 1 activations\n",
      "ExecutorID 9854f3/806 - Getting results...\n"
     ]
    },
    {
     "data": {
      "application/vnd.jupyter.widget-view+json": {
       "model_id": "88e73ab800d94205af16711179930623",
       "version_major": 2,
       "version_minor": 0
      },
      "text/plain": [
       "HBox(children=(HTML(value=''), FloatProgress(value=0.0, max=1.0), HTML(value='')))"
      ]
     },
     "metadata": {},
     "output_type": "display_data"
    },
    {
     "name": "stdout",
     "output_type": "stream",
     "text": [
      "\n",
      "ExecutorID 9854f3/806 - Cleaning temporary data\n",
      "ExecutorID 9854f3/806 | JobID A005 - Selected Runtime: ziad06/imagecloud:pdal100 - 4096MB \n",
      "ExecutorID 9854f3/806 | JobID A005 - Uploading function and data - Total: 1.5KiB\n",
      "ExecutorID 9854f3/806 | JobID A005 - Starting function invocation: prepare_data() - Total: 1 activations\n",
      "ExecutorID 9854f3/806 - Getting results...\n"
     ]
    },
    {
     "data": {
      "application/vnd.jupyter.widget-view+json": {
       "model_id": "e91a2fd518ec4b6e8ac167b9526b5a8d",
       "version_major": 2,
       "version_minor": 0
      },
      "text/plain": [
       "HBox(children=(HTML(value=''), FloatProgress(value=0.0, max=1.0), HTML(value='')))"
      ]
     },
     "metadata": {},
     "output_type": "display_data"
    },
    {
     "name": "stdout",
     "output_type": "stream",
     "text": [
      "\n",
      "ExecutorID 9854f3/806 - Cleaning temporary data\n",
      "ExecutorID 9854f3/806 | JobID A006 - Selected Runtime: ziad06/imagecloud:pdal100 - 4096MB \n",
      "ExecutorID 9854f3/806 | JobID A006 - Uploading function and data - Total: 1.5KiB\n",
      "ExecutorID 9854f3/806 | JobID A006 - Starting function invocation: prepare_data() - Total: 1 activations\n",
      "ExecutorID 9854f3/806 - Getting results...\n"
     ]
    },
    {
     "data": {
      "application/vnd.jupyter.widget-view+json": {
       "model_id": "8dd98407077942c396564933bf495c94",
       "version_major": 2,
       "version_minor": 0
      },
      "text/plain": [
       "HBox(children=(HTML(value=''), FloatProgress(value=0.0, max=1.0), HTML(value='')))"
      ]
     },
     "metadata": {},
     "output_type": "display_data"
    },
    {
     "name": "stdout",
     "output_type": "stream",
     "text": [
      "\n",
      "ExecutorID 9854f3/806 - Cleaning temporary data\n",
      "ExecutorID 9854f3/806 | JobID A007 - Selected Runtime: ziad06/imagecloud:pdal100 - 4096MB \n",
      "ExecutorID 9854f3/806 | JobID A007 - Uploading function and data - Total: 1.5KiB\n",
      "ExecutorID 9854f3/806 | JobID A007 - Starting function invocation: prepare_data() - Total: 1 activations\n",
      "ExecutorID 9854f3/806 - Getting results...\n"
     ]
    },
    {
     "data": {
      "application/vnd.jupyter.widget-view+json": {
       "model_id": "9d501e6aad614a828d298d919225cc0e",
       "version_major": 2,
       "version_minor": 0
      },
      "text/plain": [
       "HBox(children=(HTML(value=''), FloatProgress(value=0.0, max=1.0), HTML(value='')))"
      ]
     },
     "metadata": {},
     "output_type": "display_data"
    },
    {
     "name": "stdout",
     "output_type": "stream",
     "text": [
      "\n",
      "ExecutorID 9854f3/806 - Cleaning temporary data\n",
      "ExecutorID 9854f3/806 | JobID A008 - Selected Runtime: ziad06/imagecloud:pdal100 - 4096MB \n",
      "ExecutorID 9854f3/806 | JobID A008 - Uploading function and data - Total: 1.5KiB\n",
      "ExecutorID 9854f3/806 | JobID A008 - Starting function invocation: prepare_data() - Total: 1 activations\n",
      "ExecutorID 9854f3/806 - Getting results...\n"
     ]
    },
    {
     "data": {
      "application/vnd.jupyter.widget-view+json": {
       "model_id": "fc7ab367fbd34e37b3e3e58aacc8fbdd",
       "version_major": 2,
       "version_minor": 0
      },
      "text/plain": [
       "HBox(children=(HTML(value=''), FloatProgress(value=0.0, max=1.0), HTML(value='')))"
      ]
     },
     "metadata": {},
     "output_type": "display_data"
    },
    {
     "name": "stdout",
     "output_type": "stream",
     "text": [
      "\n",
      "ExecutorID 9854f3/806 - Cleaning temporary data\n",
      "ExecutorID 9854f3/806 | JobID A009 - Selected Runtime: ziad06/imagecloud:pdal100 - 4096MB \n",
      "ExecutorID 9854f3/806 | JobID A009 - Uploading function and data - Total: 1.5KiB\n",
      "ExecutorID 9854f3/806 | JobID A009 - Starting function invocation: prepare_data() - Total: 1 activations\n",
      "ExecutorID 9854f3/806 - Getting results...\n"
     ]
    },
    {
     "data": {
      "application/vnd.jupyter.widget-view+json": {
       "model_id": "4cbff2fb71cf47e6aa2c672ca4a4291f",
       "version_major": 2,
       "version_minor": 0
      },
      "text/plain": [
       "HBox(children=(HTML(value=''), FloatProgress(value=0.0, max=1.0), HTML(value='')))"
      ]
     },
     "metadata": {},
     "output_type": "display_data"
    },
    {
     "name": "stdout",
     "output_type": "stream",
     "text": [
      "\n",
      "ExecutorID 9854f3/806 - Cleaning temporary data\n",
      "ExecutorID 9854f3/806 | JobID A010 - Selected Runtime: ziad06/imagecloud:pdal100 - 4096MB \n",
      "ExecutorID 9854f3/806 | JobID A010 - Uploading function and data - Total: 1.5KiB\n",
      "ExecutorID 9854f3/806 | JobID A010 - Starting function invocation: prepare_data() - Total: 1 activations\n",
      "ExecutorID 9854f3/806 - Getting results...\n"
     ]
    },
    {
     "data": {
      "application/vnd.jupyter.widget-view+json": {
       "model_id": "53598d12eb58471cb9d7e5b9ec3c0ea1",
       "version_major": 2,
       "version_minor": 0
      },
      "text/plain": [
       "HBox(children=(HTML(value=''), FloatProgress(value=0.0, max=1.0), HTML(value='')))"
      ]
     },
     "metadata": {},
     "output_type": "display_data"
    },
    {
     "name": "stdout",
     "output_type": "stream",
     "text": [
      "\n",
      "ExecutorID 9854f3/806 - Cleaning temporary data\n",
      "ExecutorID 9854f3/806 | JobID A011 - Selected Runtime: ziad06/imagecloud:pdal100 - 4096MB \n",
      "ExecutorID 9854f3/806 | JobID A011 - Uploading function and data - Total: 1.5KiB\n",
      "ExecutorID 9854f3/806 | JobID A011 - Starting function invocation: prepare_data() - Total: 1 activations\n",
      "ExecutorID 9854f3/806 - Getting results...\n"
     ]
    },
    {
     "data": {
      "application/vnd.jupyter.widget-view+json": {
       "model_id": "8b54ce00cb664893985defd1b3b937ca",
       "version_major": 2,
       "version_minor": 0
      },
      "text/plain": [
       "HBox(children=(HTML(value=''), FloatProgress(value=0.0, max=1.0), HTML(value='')))"
      ]
     },
     "metadata": {},
     "output_type": "display_data"
    },
    {
     "name": "stdout",
     "output_type": "stream",
     "text": [
      "\n",
      "ExecutorID 9854f3/806 - Cleaning temporary data\n",
      "ExecutorID 9854f3/806 | JobID A012 - Selected Runtime: ziad06/imagecloud:pdal100 - 4096MB \n",
      "ExecutorID 9854f3/806 | JobID A012 - Uploading function and data - Total: 1.5KiB\n",
      "ExecutorID 9854f3/806 | JobID A012 - Starting function invocation: prepare_data() - Total: 1 activations\n",
      "ExecutorID 9854f3/806 - Getting results...\n"
     ]
    },
    {
     "data": {
      "application/vnd.jupyter.widget-view+json": {
       "model_id": "9057a0fd0aa14c0b8b5c15a33ad9abb8",
       "version_major": 2,
       "version_minor": 0
      },
      "text/plain": [
       "HBox(children=(HTML(value=''), FloatProgress(value=0.0, max=1.0), HTML(value='')))"
      ]
     },
     "metadata": {},
     "output_type": "display_data"
    },
    {
     "name": "stdout",
     "output_type": "stream",
     "text": [
      "\n",
      "ExecutorID 9854f3/806 - Cleaning temporary data\n",
      "ExecutorID 9854f3/806 | JobID A013 - Selected Runtime: ziad06/imagecloud:pdal100 - 4096MB \n",
      "ExecutorID 9854f3/806 | JobID A013 - Uploading function and data - Total: 1.5KiB\n",
      "ExecutorID 9854f3/806 | JobID A013 - Starting function invocation: prepare_data() - Total: 1 activations\n",
      "ExecutorID 9854f3/806 - Getting results...\n"
     ]
    },
    {
     "data": {
      "application/vnd.jupyter.widget-view+json": {
       "model_id": "079569d08cf64eeda97bcded0aea1438",
       "version_major": 2,
       "version_minor": 0
      },
      "text/plain": [
       "HBox(children=(HTML(value=''), FloatProgress(value=0.0, max=1.0), HTML(value='')))"
      ]
     },
     "metadata": {},
     "output_type": "display_data"
    },
    {
     "name": "stdout",
     "output_type": "stream",
     "text": [
      "\n",
      "ExecutorID 9854f3/806 - Cleaning temporary data\n",
      "ExecutorID 9854f3/806 | JobID A014 - Selected Runtime: ziad06/imagecloud:pdal100 - 4096MB \n",
      "ExecutorID 9854f3/806 | JobID A014 - Uploading function and data - Total: 1.5KiB\n",
      "ExecutorID 9854f3/806 | JobID A014 - Starting function invocation: prepare_data() - Total: 1 activations\n",
      "ExecutorID 9854f3/806 - Getting results...\n"
     ]
    },
    {
     "data": {
      "application/vnd.jupyter.widget-view+json": {
       "model_id": "5bbf69dff5ec40a4beef05353faaa318",
       "version_major": 2,
       "version_minor": 0
      },
      "text/plain": [
       "HBox(children=(HTML(value=''), FloatProgress(value=0.0, max=1.0), HTML(value='')))"
      ]
     },
     "metadata": {},
     "output_type": "display_data"
    },
    {
     "name": "stdout",
     "output_type": "stream",
     "text": [
      "\n",
      "ExecutorID 9854f3/806 - Cleaning temporary data\n",
      "ExecutorID 9854f3/806 | JobID A015 - Selected Runtime: ziad06/imagecloud:pdal100 - 4096MB \n",
      "ExecutorID 9854f3/806 | JobID A015 - Uploading function and data - Total: 1.5KiB\n",
      "ExecutorID 9854f3/806 | JobID A015 - Starting function invocation: prepare_data() - Total: 1 activations\n",
      "ExecutorID 9854f3/806 - Getting results...\n"
     ]
    },
    {
     "data": {
      "application/vnd.jupyter.widget-view+json": {
       "model_id": "9c7c4a3f6b4b4a4aaa2b4e339a8361d5",
       "version_major": 2,
       "version_minor": 0
      },
      "text/plain": [
       "HBox(children=(HTML(value=''), FloatProgress(value=0.0, max=1.0), HTML(value='')))"
      ]
     },
     "metadata": {},
     "output_type": "display_data"
    },
    {
     "name": "stdout",
     "output_type": "stream",
     "text": [
      "\n",
      "ExecutorID 9854f3/806 - Cleaning temporary data\n",
      "ExecutorID 9854f3/806 | JobID A016 - Selected Runtime: ziad06/imagecloud:pdal100 - 4096MB \n",
      "ExecutorID 9854f3/806 | JobID A016 - Uploading function and data - Total: 1.5KiB\n",
      "ExecutorID 9854f3/806 | JobID A016 - Starting function invocation: prepare_data() - Total: 1 activations\n",
      "ExecutorID 9854f3/806 - Getting results...\n"
     ]
    },
    {
     "data": {
      "application/vnd.jupyter.widget-view+json": {
       "model_id": "8fcefc3d6d09487c8306430d23f1549d",
       "version_major": 2,
       "version_minor": 0
      },
      "text/plain": [
       "HBox(children=(HTML(value=''), FloatProgress(value=0.0, max=1.0), HTML(value='')))"
      ]
     },
     "metadata": {},
     "output_type": "display_data"
    },
    {
     "name": "stdout",
     "output_type": "stream",
     "text": [
      "\n",
      "ExecutorID 9854f3/806 - Cleaning temporary data\n",
      "ExecutorID 9854f3/806 | JobID A017 - Selected Runtime: ziad06/imagecloud:pdal100 - 4096MB \n",
      "ExecutorID 9854f3/806 | JobID A017 - Uploading function and data - Total: 1.5KiB\n",
      "ExecutorID 9854f3/806 | JobID A017 - Starting function invocation: prepare_data() - Total: 1 activations\n",
      "ExecutorID 9854f3/806 - Getting results...\n"
     ]
    },
    {
     "data": {
      "application/vnd.jupyter.widget-view+json": {
       "model_id": "98f97a4458f84718ab72c8b80adee19d",
       "version_major": 2,
       "version_minor": 0
      },
      "text/plain": [
       "HBox(children=(HTML(value=''), FloatProgress(value=0.0, max=1.0), HTML(value='')))"
      ]
     },
     "metadata": {},
     "output_type": "display_data"
    },
    {
     "name": "stdout",
     "output_type": "stream",
     "text": [
      "\n",
      "ExecutorID 9854f3/806 - Cleaning temporary data\n",
      "ExecutorID 9854f3/806 | JobID A018 - Selected Runtime: ziad06/imagecloud:pdal100 - 4096MB \n",
      "ExecutorID 9854f3/806 | JobID A018 - Uploading function and data - Total: 1.5KiB\n",
      "ExecutorID 9854f3/806 | JobID A018 - Starting function invocation: prepare_data() - Total: 1 activations\n",
      "ExecutorID 9854f3/806 - Getting results...\n"
     ]
    },
    {
     "data": {
      "application/vnd.jupyter.widget-view+json": {
       "model_id": "096a02cbf4ca44819daeb378268f0ca3",
       "version_major": 2,
       "version_minor": 0
      },
      "text/plain": [
       "HBox(children=(HTML(value=''), FloatProgress(value=0.0, max=1.0), HTML(value='')))"
      ]
     },
     "metadata": {},
     "output_type": "display_data"
    },
    {
     "name": "stdout",
     "output_type": "stream",
     "text": [
      "\n",
      "ExecutorID 9854f3/806 - Cleaning temporary data\n",
      "ExecutorID 9854f3/806 | JobID A019 - Selected Runtime: ziad06/imagecloud:pdal100 - 4096MB \n",
      "ExecutorID 9854f3/806 | JobID A019 - Uploading function and data - Total: 1.5KiB\n",
      "ExecutorID 9854f3/806 | JobID A019 - Starting function invocation: prepare_data() - Total: 1 activations\n",
      "ExecutorID 9854f3/806 - Getting results...\n"
     ]
    },
    {
     "data": {
      "application/vnd.jupyter.widget-view+json": {
       "model_id": "55ab65f5a1eb4a11be4606241f35a214",
       "version_major": 2,
       "version_minor": 0
      },
      "text/plain": [
       "HBox(children=(HTML(value=''), FloatProgress(value=0.0, max=1.0), HTML(value='')))"
      ]
     },
     "metadata": {},
     "output_type": "display_data"
    },
    {
     "name": "stdout",
     "output_type": "stream",
     "text": [
      "\n",
      "ExecutorID 9854f3/806 - Cleaning temporary data\n"
     ]
    },
    {
     "data": {
      "text/plain": [
       "'\\ndef prepare_data(obj, storage , ibm_cos):\\n    import csv\\n    import rasterio as rio\\n    key = obj.key\\n    filez =key.split(\\'/\\')[1].split(\\'.\\')[0]\\n    inputfiles_dem = f\"dem/dem_{filez}.tif\"\\n    inputfiles_aspect = f\"aspect/aspect_{filez}.tif\"\\n    inputfiles_slope =  f\"slope/slope_{filez}.tif\"\\n    images = [inputfiles_dem, inputfiles_aspect, inputfiles_slope]\\n    band_list= []\\n    for image in images:\\n        d= storage.get_object(\\'ziad-cloudbutton\\', key=image, stream=True)\\n        with rio.open(d, \\'r\\') as src:\\n            band = src.read(1)\\n            band = np.nan_to_num(band)\\n            band_list.append(band)\\n\\n\\n    bands_stack = np.dstack(band_list)\\n    width, height, depth = bands_stack.shape\\n    model_input = bands_stack.reshape(width * height, depth)\\n\\n\\n    a_file = open(\"data_train.csv\", \"ab+\")\\n    np.savetxt(a_file, model_input,delimiter=\\';\\')\\n    a_file.close()\\n    #ibm_cos.upload_file(Bucket =\\'ziad-cloudbutton\\', Filename = \\'data_train.txt\\',Key  = \\'data_train.txt\\')\\n    return \\'Done!\\'\\n'"
      ]
     },
     "execution_count": 1757,
     "metadata": {},
     "output_type": "execute_result"
    }
   ],
   "source": [
    "\n",
    "def prepare_data (obj,storage,ibm_cos):\n",
    "    import rasterio as rio\n",
    "    key = obj.key\n",
    "    filez =key.split('/')[1].split('.')[0]\n",
    "    inputfiles_dem = f\"dem/dem_{filez}.tif\"\n",
    "    inputfiles_aspect = f\"aspect/aspect_{filez}.tif\"\n",
    "    inputfiles_slope =  f\"slope/slope_{filez}.tif\"\n",
    "    images = [inputfiles_dem, inputfiles_aspect, inputfiles_slope]\n",
    "    band_list= []\n",
    "    for image in images:\n",
    "        d= storage.get_object('ziad-cloudbutton', key=image, stream=True)\n",
    "        with rio.open(d, 'r') as src:\n",
    "            band = src.read(1)\n",
    "            band = np.nan_to_num(band)\n",
    "            band_list.append(band)\n",
    "\n",
    "\n",
    "    bands_stack = np.dstack(band_list)\n",
    "    width, height, depth = bands_stack.shape\n",
    "    model_input = bands_stack.reshape(width * height, depth)\n",
    "\n",
    "\n",
    "    a_file = open(\"data_train.csv\", \"a+\")\n",
    "    np.savetxt(a_file, model_input,delimiter=';')\n",
    "    a_file.close()\n",
    "    return 'Done!'\n",
    "\n",
    "fexec = lithops.FunctionExecutor(config = config, runtime = 'ziad06/imagecloud:pdal100', runtime_memory = 4096 )\n",
    "itterdata= ['ziad-cloudbutton/'+lidar for lidar in fexec.storage.list_keys('ziad-cloudbutton') if '.laz' in lidar]\n",
    "for lidar in itterdata:\n",
    "    fexec.call_async(prepare_data,lidar)\n",
    "    fexec.get_result()\n",
    "\n",
    "    \n",
    "    \n",
    "\"\"\"\n",
    "def prepare_data(obj, storage , ibm_cos):\n",
    "    import csv\n",
    "    import rasterio as rio\n",
    "    key = obj.key\n",
    "    filez =key.split('/')[1].split('.')[0]\n",
    "    inputfiles_dem = f\"dem/dem_{filez}.tif\"\n",
    "    inputfiles_aspect = f\"aspect/aspect_{filez}.tif\"\n",
    "    inputfiles_slope =  f\"slope/slope_{filez}.tif\"\n",
    "    images = [inputfiles_dem, inputfiles_aspect, inputfiles_slope]\n",
    "    band_list= []\n",
    "    for image in images:\n",
    "        d= storage.get_object('ziad-cloudbutton', key=image, stream=True)\n",
    "        with rio.open(d, 'r') as src:\n",
    "            band = src.read(1)\n",
    "            band = np.nan_to_num(band)\n",
    "            band_list.append(band)\n",
    "\n",
    "\n",
    "    bands_stack = np.dstack(band_list)\n",
    "    width, height, depth = bands_stack.shape\n",
    "    model_input = bands_stack.reshape(width * height, depth)\n",
    "\n",
    "\n",
    "    a_file = open(\"data_train.csv\", \"ab+\")\n",
    "    np.savetxt(a_file, model_input,delimiter=';')\n",
    "    a_file.close()\n",
    "    #ibm_cos.upload_file(Bucket ='ziad-cloudbutton', Filename = 'data_train.txt',Key  = 'data_train.txt')\n",
    "    return 'Done!'\n",
    "\"\"\"\n"
   ]
  },
  {
   "cell_type": "markdown",
   "metadata": {},
   "source": [
    "upload_file function uploads the file which was created above to IBM cloud"
   ]
  },
  {
   "cell_type": "code",
   "execution_count": 1689,
   "metadata": {},
   "outputs": [
    {
     "name": "stdout",
     "output_type": "stream",
     "text": [
      "Lithops v2.2.3 init for IBM Cloud Functions - Namespace: ibm-cos_prueba - Region: us_east\n",
      "ExecutorID 9854f3/760 | JobID M000 - Selected Runtime: ziad06/imagecloud:pdal100 - 4096MB \n",
      "ExecutorID 9854f3/760 | JobID M000 - Uploading function and data - Total: 966.0B\n",
      "ExecutorID 9854f3/760 | JobID M000 - Starting function invocation: upload_file() - Total: 1 activations\n",
      "ExecutorID 9854f3/760 - Getting results...\n"
     ]
    },
    {
     "data": {
      "application/vnd.jupyter.widget-view+json": {
       "model_id": "2c962052404e493c8044e2fbc995051b",
       "version_major": 2,
       "version_minor": 0
      },
      "text/plain": [
       "HBox(children=(HTML(value=''), FloatProgress(value=0.0, max=1.0), HTML(value='')))"
      ]
     },
     "metadata": {},
     "output_type": "display_data"
    },
    {
     "name": "stdout",
     "output_type": "stream",
     "text": [
      "\n",
      "ExecutorID 9854f3/760 - Cleaning temporary data\n"
     ]
    },
    {
     "data": {
      "text/plain": [
       "['data_train.csv']"
      ]
     },
     "execution_count": 1689,
     "metadata": {},
     "output_type": "execute_result"
    }
   ],
   "source": [
    "# upload csv file to ibm cloud\n",
    "def upload_file(obj , ibm_cos):\n",
    "    dir_name = os.getcwd()\n",
    "    test = os.listdir(dir_name)\n",
    "    for item in test:\n",
    "        if item.endswith(\".csv\"):\n",
    "            ibm_cos.upload_file(Bucket ='ziad-cloudbutton', Filename = 'data_train.csv',Key  = 'data_train.csv')\n",
    "            return item\n",
    "fexec = lithops.FunctionExecutor(config = config, runtime = 'ziad06/imagecloud:pdal100', runtime_memory = 4096 )\n",
    "fexec.map(upload_file, 'ziad-cloudbutton/txt/')\n",
    "fexec.get_result()\n",
    "\n"
   ]
  },
  {
   "cell_type": "markdown",
   "metadata": {},
   "source": [
    "delete_file function delete the file which was created to save memory"
   ]
  },
  {
   "cell_type": "code",
   "execution_count": 1694,
   "metadata": {},
   "outputs": [
    {
     "name": "stdout",
     "output_type": "stream",
     "text": [
      "Lithops v2.2.3 init for IBM Cloud Functions - Namespace: ibm-cos_prueba - Region: us_east\n",
      "ExecutorID 9854f3/765 | JobID M000 - Selected Runtime: ziad06/imagecloud:pdal100 - 4096MB \n",
      "ExecutorID 9854f3/765 | JobID M000 - Uploading function and data - Total: 926.0B\n",
      "ExecutorID 9854f3/765 | JobID M000 - Starting function invocation: delete_file() - Total: 1 activations\n",
      "ExecutorID 9854f3/765 - Waiting for functions to complete...\n"
     ]
    },
    {
     "data": {
      "application/vnd.jupyter.widget-view+json": {
       "model_id": "aa171fa3c7864c09ba04ebb3726dbf6c",
       "version_major": 2,
       "version_minor": 0
      },
      "text/plain": [
       "HBox(children=(HTML(value=''), FloatProgress(value=0.0, max=1.0), HTML(value='')))"
      ]
     },
     "metadata": {},
     "output_type": "display_data"
    },
    {
     "name": "stdout",
     "output_type": "stream",
     "text": [
      "\n"
     ]
    },
    {
     "data": {
      "text/plain": [
       "([<lithops.future.ResponseFuture at 0x7fe91e2789a0>], [])"
      ]
     },
     "execution_count": 1694,
     "metadata": {},
     "output_type": "execute_result"
    }
   ],
   "source": [
    "# Delete csv file\n",
    "def delete_file(obj, storage):\n",
    "    dir_name = os.getcwd()\n",
    "    test = os.listdir(dir_name)\n",
    "    for item in test:\n",
    "        if item.endswith(\".csv\"):\n",
    "             os.remove(os.path.join(dir_name, item))\n",
    "    return 'Done!'\n",
    "\n",
    "\n",
    "\n",
    "\n",
    "fexec = lithops.FunctionExecutor(config = config, runtime = 'ziad06/imagecloud:pdal100', runtime_memory = 4096 )\n",
    "fexec.map(delete_file, 'ziad-cloudbutton/txt/')\n",
    "fexec.wait()\n",
    "\n",
    "\n",
    "        "
   ]
  },
  {
   "cell_type": "code",
   "execution_count": 1755,
   "metadata": {},
   "outputs": [
    {
     "name": "stdout",
     "output_type": "stream",
     "text": [
      "Lithops v2.2.3 init for IBM Cloud Functions - Namespace: ibm-cos_prueba - Region: us_east\n",
      "ExecutorID 9854f3/804 | JobID M000 - Selected Runtime: ziad06/imagecloud:pdal100 - 4096MB \n",
      "ExecutorID 9854f3/804 | JobID M000 - Uploading function and data - Total: 897.0B\n",
      "ExecutorID 9854f3/804 | JobID M000 - Starting function invocation: getSize() - Total: 1 activations\n",
      "ExecutorID 9854f3/804 - Getting results...\n"
     ]
    },
    {
     "data": {
      "application/vnd.jupyter.widget-view+json": {
       "model_id": "0adffb8acfaf484cbe281d2c2bc24eeb",
       "version_major": 2,
       "version_minor": 0
      },
      "text/plain": [
       "HBox(children=(HTML(value=''), FloatProgress(value=0.0, max=1.0), HTML(value='')))"
      ]
     },
     "metadata": {},
     "output_type": "display_data"
    },
    {
     "name": "stdout",
     "output_type": "stream",
     "text": [
      "\n",
      "ExecutorID 9854f3/804 - Cleaning temporary data\n"
     ]
    },
    {
     "data": {
      "text/plain": [
       "[('/action', ['__main__.py', 'lithops'])]"
      ]
     },
     "execution_count": 1755,
     "metadata": {},
     "output_type": "execute_result"
    }
   ],
   "source": [
    "# check if the directory is empty\n",
    "def check_file(obj , storage):\n",
    "    # check if the file it delete correctly\n",
    "        dir_name = os.getcwd()\n",
    "        test = os.listdir(dir_name)\n",
    "        return test\n",
    "\n",
    "            \n",
    "fexec = lithops.FunctionExecutor(config = config, runtime = 'ziad06/imagecloud:pdal100', runtime_memory = 4096 )\n",
    "fexec.map(getSize, 'ziad-cloudbutton/txt/')\n",
    "rsults=fexec.get_result()\n",
    "rsults\n",
    "\n"
   ]
  },
  {
   "cell_type": "code",
   "execution_count": 60,
   "metadata": {},
   "outputs": [
    {
     "name": "stdout",
     "output_type": "stream",
     "text": [
      "Lithops v2.2.3 init for IBM Cloud Functions - Namespace: ibm-cos_prueba - Region: us_east\n"
     ]
    },
    {
     "data": {
      "text/plain": [
       "(72936815, 3)"
      ]
     },
     "execution_count": 60,
     "metadata": {},
     "output_type": "execute_result"
    }
   ],
   "source": [
    "# Read the train data file\n",
    "fexec = lithops.FunctionExecutor(config = config, runtime = 'ziad06/imagecloud:pdal100', runtime_memory = 4096 )\n",
    "data =  fexec.storage.get_object('ziad-cloudbutton', key='data_train.csv', stream=True)\n",
    "X_train= pd.read_csv(data,delimiter=';')\n",
    "X_train.shape"
   ]
  },
  {
   "cell_type": "code",
   "execution_count": 1772,
   "metadata": {},
   "outputs": [],
   "source": [
    "no_of_ranges =  np.arange(3, 11, 1)\n",
    "kmeans_kwargs = {\n",
    "    \"init\": \"random\",\n",
    "    \"n_init\": 10,\n",
    "    \"max_iter\": 300,\n",
    "    \"random_state\": 42,\n",
    "}\n",
    "models = []\n",
    "predicted = []\n",
    "inertia_vals = []\n",
    "s_scores = []\n",
    "for n_clust in no_of_ranges:\n",
    "    kmeans = KMeans(n_clusters=n_clust,**kmeans_kwargs)\n",
    "    y_pred =kmeans.fit_predict(X_train)\n",
    "\n",
    "    # Append model\n",
    "    models.append(kmeans)\n",
    "\n",
    "    # Calculate metrics\n",
    "    s_scores.append(silhouette_score(X_train, y_pred, sample_size=1000))\n",
    "    #inertia_vals.append(pipe.inertia_)\n",
    "    inertia_vals.append(kmeans.inertia_)"
   ]
  },
  {
   "cell_type": "code",
   "execution_count": 1773,
   "metadata": {},
   "outputs": [
    {
     "data": {
      "text/plain": [
       "Text(0.5, 0, 'Number of clusters')"
      ]
     },
     "execution_count": 1773,
     "metadata": {},
     "output_type": "execute_result"
    },
    {
     "data": {
      "image/png": "[encoded data removed]",
      "text/plain": [
       "<Figure size 432x276.48 with 1 Axes>"
      ]
     },
     "metadata": {
      "needs_background": "light"
     },
     "output_type": "display_data"
    }
   ],
   "source": [
    "fig, ax = plt.subplots(1, 1, figsize=(6, 3.84))\n",
    "ax.plot(no_of_ranges, s_scores, marker='o')\n",
    "ax.set_title(\"Silhouette scores\")\n",
    "ax.set_xlabel('Number of clusters')\n"
   ]
  },
  {
   "cell_type": "code",
   "execution_count": 1774,
   "metadata": {},
   "outputs": [
    {
     "data": {
      "image/png": "[encoded data removed]",
      "text/plain": [
       "<Figure size 432x276.48 with 1 Axes>"
      ]
     },
     "metadata": {
      "needs_background": "light"
     },
     "output_type": "display_data"
    }
   ],
   "source": [
    "fig, ax = plt.subplots(1, 1, figsize=(6, 3.84))\n",
    "ax.plot(no_of_ranges, inertia_vals, marker='o')\n",
    "ax.set_title(\"'Inertia of the models\")\n",
    "ax.set_xlabel('Number of clusters')\n",
    "ax.set_ylabel('Intra-cluster (inertia)');\n"
   ]
  },
  {
   "cell_type": "markdown",
   "metadata": {},
   "source": [
    "The number of clusters (k) is the most important hyperparameter in K-Means clustering. So to find the optimal value of k we apply Elbow method and Silhouette method."
   ]
  },
  {
   "cell_type": "markdown",
   "metadata": {},
   "source": [
    "Elbow method finds the optimal number of clusters,  then the “elbow” (the point of inflection on the curve) is a good indication that the underlying model fits best at that point."
   ]
  },
  {
   "cell_type": "markdown",
   "metadata": {},
   "source": [
    "The second graph reprsents Silhouette score. The range of the Silhouette value is between +1 and -1. A high value is desirable and indicates that the point is placed in the correct cluster."
   ]
  },
  {
   "cell_type": "markdown",
   "metadata": {},
   "source": [
    "We can notice the number of clusters 5 is matching in both methods."
   ]
  },
  {
   "cell_type": "markdown",
   "metadata": {},
   "source": [
    "Now, we train the model another time using the value 5 as number of clusters."
   ]
  },
  {
   "cell_type": "code",
   "execution_count": 63,
   "metadata": {},
   "outputs": [],
   "source": [
    "kmeans = KMeans(n_clusters=5,**kmeans_kwargs)\n",
    "y_pred =kmeans.fit_predict(X_train)\n",
    "\n"
   ]
  },
  {
   "cell_type": "code",
   "execution_count": 1783,
   "metadata": {},
   "outputs": [
    {
     "data": {
      "text/plain": [
       "<matplotlib.image.AxesImage at 0x7fe948f33cd0>"
      ]
     },
     "execution_count": 1783,
     "metadata": {},
     "output_type": "execute_result"
    },
    {
     "data": {
      "image/png": "[encoded data removed]",
      "text/plain": [
       "<Figure size 432x288 with 1 Axes>"
      ]
     },
     "metadata": {
      "needs_background": "light"
     },
     "output_type": "display_data"
    }
   ],
   "source": [
    "name = 'PNOA_2017_CLM-CAS_246-4450_ORT-CLA-IRC.tif'\n",
    "aspect = 'aspect/aspect_'+name\n",
    "slop = 'slop/slop_'+name\n",
    "dem = 'dem/dem_'+name\n",
    "raster_fns = [aspect,slop,dem]\n",
    "band_list = []\n",
    "for image in raster_fns:\n",
    "    with rio.open(image, 'r') as src:\n",
    "        band = src.read(1)\n",
    "        band = np.nan_to_num(band)\n",
    "        band_list.append(band)\n",
    "bands_stack = np.dstack(band_list)\n",
    "width, height, depth = bands_stack.shape\n",
    "model_input = bands_stack.reshape(width * height, depth)\n",
    "#model_input_scaled = scale(model_input)\n",
    "#model_input_scaled = scaler.transform(model_input)\n",
    "y_pred = kmeans.predict(model_input)\n",
    "quantized_raster = np.reshape(y_pred, (width, height))\n",
    "plt.imshow(quantized_raster, cmap=\"terrain\")\n"
   ]
  },
  {
   "cell_type": "markdown",
   "metadata": {},
   "source": [
    "###  Export and import  trained model "
   ]
  },
  {
   "cell_type": "markdown",
   "metadata": {},
   "source": [
    "Save the **Machine Learning model** based in KMeans through <i>joblib</i> and import it. By doing so we will be able to upload it to IBM_COS. \n"
   ]
  },
  {
   "cell_type": "code",
   "execution_count": 65,
   "metadata": {},
   "outputs": [
    {
     "data": {
      "text/plain": [
       "True"
      ]
     },
     "execution_count": 65,
     "metadata": {},
     "output_type": "execute_result"
    }
   ],
   "source": [
    "model = kmeans\n",
    "bufmodel  = io.BytesIO()\n",
    "joblib.dump(model, bufmodel)\n",
    "bufmodel.seek(0)  # Without this line it fails\n",
    "fexec.storage.put_object('ziad-cloudbutton', key= 'trained_model/kmeans.sav',data= bufmodel)"
   ]
  }
 ],
 "metadata": {
  "kernelspec": {
   "display_name": "Python 3",
   "language": "python",
   "name": "python3"
  },
  "language_info": {
   "codemirror_mode": {
    "name": "ipython",
    "version": 3
   },
   "file_extension": ".py",
   "mimetype": "text/x-python",
   "name": "python",
   "nbconvert_exporter": "python",
   "pygments_lexer": "ipython3",
   "version": "3.8.6"
  }
 },
 "nbformat": 4,
 "nbformat_minor": 4
}
